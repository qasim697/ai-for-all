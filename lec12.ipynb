{
 "cells": [
  {
   "cell_type": "code",
   "execution_count": 7,
   "id": "b1cde006",
   "metadata": {},
   "outputs": [
    {
     "name": "stdout",
     "output_type": "stream",
     "text": [
      "Requirement already satisfied: openpyxl in c:\\users\\qasim\\miniconda3\\envs\\awfera\\lib\\site-packages (3.1.5)\n",
      "Requirement already satisfied: et-xmlfile in c:\\users\\qasim\\miniconda3\\envs\\awfera\\lib\\site-packages (from openpyxl) (2.0.0)\n"
     ]
    }
   ],
   "source": [
    "# EDA steps\n",
    "import pandas as pd\n",
    "import numpy as np\n",
    "import matplotlib.pyplot as plt\n",
    "import seaborn as sns\n",
    "!pip install openpyxl\n"
   ]
  },
  {
   "cell_type": "code",
   "execution_count": 12,
   "id": "8a79a97b",
   "metadata": {},
   "outputs": [
    {
     "name": "stdout",
     "output_type": "stream",
     "text": [
      "   SR                 SCHOOL_NAME STUDENT_NAME      FATHER_NAME       CELL_NO  \\\n",
      "0   1  Skyway Model School Kunjah        Arman              NaN   348 4238084   \n",
      "1   2  Skyway Model School Kunjah       Abeera          M.ilyas   345 4721339   \n",
      "2   3  Skyway Model School Kunjah         Umar         M.Arshad           NaN   \n",
      "3   4  Skyway Model School Kunjah   Hassan Ali  Ahtisham Ramzan           NaN   \n",
      "4   5  Skyway Model School Kunjah  Abduljaleel        Sher khan           NaN   \n",
      "\n",
      "  REASON  \n",
      "0   poor  \n",
      "1   poor  \n",
      "2   poor  \n",
      "3   poor  \n",
      "4   poor  \n"
     ]
    }
   ],
   "source": [
    "# load the dataset 10pC.xlsx\n",
    "df = pd.read_excel('10pC.xlsx')\n",
    "# Display the first few rows of the dataset\n",
    "print(df.head())"
   ]
  },
  {
   "cell_type": "code",
   "execution_count": 13,
   "id": "f4fe510b",
   "metadata": {},
   "outputs": [
    {
     "data": {
      "application/vnd.microsoft.datawrangler.viewer.v0+json": {
       "columns": [
        {
         "name": "index",
         "rawType": "object",
         "type": "string"
        },
        {
         "name": "0",
         "rawType": "int64",
         "type": "integer"
        }
       ],
       "ref": "b700cae7-e963-43ce-b4eb-59fa0dc1dfc8",
       "rows": [
        [
         "SR",
         "0"
        ],
        [
         "SCHOOL_NAME",
         "0"
        ],
        [
         "STUDENT_NAME",
         "0"
        ],
        [
         "FATHER_NAME",
         "5"
        ],
        [
         "CELL_NO",
         "28"
        ],
        [
         "REASON",
         "1"
        ]
       ],
       "shape": {
        "columns": 1,
        "rows": 6
       }
      },
      "text/plain": [
       "SR               0\n",
       "SCHOOL_NAME      0\n",
       "STUDENT_NAME     0\n",
       "FATHER_NAME      5\n",
       "CELL_NO         28\n",
       "REASON           1\n",
       "dtype: int64"
      ]
     },
     "execution_count": 13,
     "metadata": {},
     "output_type": "execute_result"
    }
   ],
   "source": [
    "df.isnull().sum()"
   ]
  },
  {
   "cell_type": "code",
   "execution_count": null,
   "id": "1dbc69bc",
   "metadata": {},
   "outputs": [],
   "source": []
  },
  {
   "cell_type": "code",
   "execution_count": 11,
   "id": "850eaaa7",
   "metadata": {},
   "outputs": [
    {
     "name": "stdout",
     "output_type": "stream",
     "text": [
      "<class 'pandas.core.frame.DataFrame'>\n",
      "RangeIndex: 359 entries, 0 to 358\n",
      "Data columns (total 6 columns):\n",
      " #   Column        Non-Null Count  Dtype \n",
      "---  ------        --------------  ----- \n",
      " 0   SR            359 non-null    int64 \n",
      " 1   SCHOOL_NAME   345 non-null    object\n",
      " 2   STUDENT_NAME  345 non-null    object\n",
      " 3   FATHER_NAME   340 non-null    object\n",
      " 4   CELL_NO       317 non-null    object\n",
      " 5   REASON        344 non-null    object\n",
      "dtypes: int64(1), object(5)\n",
      "memory usage: 17.0+ KB\n"
     ]
    }
   ],
   "source": [
    "df.info()"
   ]
  },
  {
   "cell_type": "code",
   "execution_count": 14,
   "id": "b4930189",
   "metadata": {},
   "outputs": [],
   "source": [
    "#fill missing values with mode\n",
    "df.fillna(df.mode().iloc[0], inplace=True)"
   ]
  },
  {
   "cell_type": "code",
   "execution_count": 15,
   "id": "877e3169",
   "metadata": {},
   "outputs": [
    {
     "data": {
      "application/vnd.microsoft.datawrangler.viewer.v0+json": {
       "columns": [
        {
         "name": "index",
         "rawType": "object",
         "type": "string"
        },
        {
         "name": "0",
         "rawType": "int64",
         "type": "integer"
        }
       ],
       "ref": "368cd859-7de6-4fa3-9d80-495076e49de2",
       "rows": [
        [
         "SR",
         "0"
        ],
        [
         "SCHOOL_NAME",
         "0"
        ],
        [
         "STUDENT_NAME",
         "0"
        ],
        [
         "FATHER_NAME",
         "0"
        ],
        [
         "CELL_NO",
         "0"
        ],
        [
         "REASON",
         "0"
        ]
       ],
       "shape": {
        "columns": 1,
        "rows": 6
       }
      },
      "text/plain": [
       "SR              0\n",
       "SCHOOL_NAME     0\n",
       "STUDENT_NAME    0\n",
       "FATHER_NAME     0\n",
       "CELL_NO         0\n",
       "REASON          0\n",
       "dtype: int64"
      ]
     },
     "execution_count": 15,
     "metadata": {},
     "output_type": "execute_result"
    }
   ],
   "source": [
    "df.isnull().sum()"
   ]
  },
  {
   "cell_type": "code",
   "execution_count": 16,
   "id": "f922c6b8",
   "metadata": {},
   "outputs": [],
   "source": [
    "# save the cleaned dataset to a new Excel file\n",
    "df.to_excel('cleaned_10pC.xlsx', index=False)"
   ]
  }
 ],
 "metadata": {
  "kernelspec": {
   "display_name": "awfera",
   "language": "python",
   "name": "python3"
  },
  "language_info": {
   "codemirror_mode": {
    "name": "ipython",
    "version": 3
   },
   "file_extension": ".py",
   "mimetype": "text/x-python",
   "name": "python",
   "nbconvert_exporter": "python",
   "pygments_lexer": "ipython3",
   "version": "3.11.11"
  }
 },
 "nbformat": 4,
 "nbformat_minor": 5
}
